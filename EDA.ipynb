{
  "nbformat": 4,
  "nbformat_minor": 0,
  "metadata": {
    "colab": {
      "provenance": [],
      "authorship_tag": "ABX9TyOF3yPTRBW4UkpdQIW8NcBW",
      "include_colab_link": true
    },
    "kernelspec": {
      "name": "python3",
      "display_name": "Python 3"
    },
    "language_info": {
      "name": "python"
    },
    "widgets": {
      "application/vnd.jupyter.widget-state+json": {
        "eae36d4c0a894075bc5ff7569403b916": {
          "model_module": "@jupyter-widgets/controls",
          "model_name": "VBoxModel",
          "model_module_version": "1.5.0",
          "state": {
            "_dom_classes": [
              "widget-interact"
            ],
            "_model_module": "@jupyter-widgets/controls",
            "_model_module_version": "1.5.0",
            "_model_name": "VBoxModel",
            "_view_count": null,
            "_view_module": "@jupyter-widgets/controls",
            "_view_module_version": "1.5.0",
            "_view_name": "VBoxView",
            "box_style": "",
            "children": [
              "IPY_MODEL_825821aa6d40430a87507d8f165eca5a",
              "IPY_MODEL_b51675ce629b4e3da8557dbe8067e51c"
            ],
            "layout": "IPY_MODEL_984604f589c248318e85ece57bf1c8b7"
          }
        },
        "825821aa6d40430a87507d8f165eca5a": {
          "model_module": "@jupyter-widgets/controls",
          "model_name": "DropdownModel",
          "model_module_version": "1.5.0",
          "state": {
            "_dom_classes": [],
            "_model_module": "@jupyter-widgets/controls",
            "_model_module_version": "1.5.0",
            "_model_name": "DropdownModel",
            "_options_labels": [
              "no2",
              "so2",
              "pm2_5",
              "rspm",
              "spm"
            ],
            "_view_count": null,
            "_view_module": "@jupyter-widgets/controls",
            "_view_module_version": "1.5.0",
            "_view_name": "DropdownView",
            "description": "pollutant",
            "description_tooltip": null,
            "disabled": false,
            "index": 3,
            "layout": "IPY_MODEL_9f01b5005b0843609a8dbd5116967537",
            "style": "IPY_MODEL_abd1c0c23fea40ad8ac3dba1f52bda49"
          }
        },
        "b51675ce629b4e3da8557dbe8067e51c": {
          "model_module": "@jupyter-widgets/output",
          "model_name": "OutputModel",
          "model_module_version": "1.0.0",
          "state": {
            "_dom_classes": [],
            "_model_module": "@jupyter-widgets/output",
            "_model_module_version": "1.0.0",
            "_model_name": "OutputModel",
            "_view_count": null,
            "_view_module": "@jupyter-widgets/output",
            "_view_module_version": "1.0.0",
            "_view_name": "OutputView",
            "layout": "IPY_MODEL_c3aa46ac4e684067853887e9911cfd76",
            "msg_id": "",
            "outputs": [
              {
                "output_type": "display_data",
                "data": {
                  "text/plain": "<Figure size 1000x600 with 1 Axes>",
                  "image/png": "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\n"
                },
                "metadata": {}
              }
            ]
          }
        },
        "984604f589c248318e85ece57bf1c8b7": {
          "model_module": "@jupyter-widgets/base",
          "model_name": "LayoutModel",
          "model_module_version": "1.2.0",
          "state": {
            "_model_module": "@jupyter-widgets/base",
            "_model_module_version": "1.2.0",
            "_model_name": "LayoutModel",
            "_view_count": null,
            "_view_module": "@jupyter-widgets/base",
            "_view_module_version": "1.2.0",
            "_view_name": "LayoutView",
            "align_content": null,
            "align_items": null,
            "align_self": null,
            "border": null,
            "bottom": null,
            "display": null,
            "flex": null,
            "flex_flow": null,
            "grid_area": null,
            "grid_auto_columns": null,
            "grid_auto_flow": null,
            "grid_auto_rows": null,
            "grid_column": null,
            "grid_gap": null,
            "grid_row": null,
            "grid_template_areas": null,
            "grid_template_columns": null,
            "grid_template_rows": null,
            "height": null,
            "justify_content": null,
            "justify_items": null,
            "left": null,
            "margin": null,
            "max_height": null,
            "max_width": null,
            "min_height": null,
            "min_width": null,
            "object_fit": null,
            "object_position": null,
            "order": null,
            "overflow": null,
            "overflow_x": null,
            "overflow_y": null,
            "padding": null,
            "right": null,
            "top": null,
            "visibility": null,
            "width": null
          }
        },
        "9f01b5005b0843609a8dbd5116967537": {
          "model_module": "@jupyter-widgets/base",
          "model_name": "LayoutModel",
          "model_module_version": "1.2.0",
          "state": {
            "_model_module": "@jupyter-widgets/base",
            "_model_module_version": "1.2.0",
            "_model_name": "LayoutModel",
            "_view_count": null,
            "_view_module": "@jupyter-widgets/base",
            "_view_module_version": "1.2.0",
            "_view_name": "LayoutView",
            "align_content": null,
            "align_items": null,
            "align_self": null,
            "border": null,
            "bottom": null,
            "display": null,
            "flex": null,
            "flex_flow": null,
            "grid_area": null,
            "grid_auto_columns": null,
            "grid_auto_flow": null,
            "grid_auto_rows": null,
            "grid_column": null,
            "grid_gap": null,
            "grid_row": null,
            "grid_template_areas": null,
            "grid_template_columns": null,
            "grid_template_rows": null,
            "height": null,
            "justify_content": null,
            "justify_items": null,
            "left": null,
            "margin": null,
            "max_height": null,
            "max_width": null,
            "min_height": null,
            "min_width": null,
            "object_fit": null,
            "object_position": null,
            "order": null,
            "overflow": null,
            "overflow_x": null,
            "overflow_y": null,
            "padding": null,
            "right": null,
            "top": null,
            "visibility": null,
            "width": null
          }
        },
        "abd1c0c23fea40ad8ac3dba1f52bda49": {
          "model_module": "@jupyter-widgets/controls",
          "model_name": "DescriptionStyleModel",
          "model_module_version": "1.5.0",
          "state": {
            "_model_module": "@jupyter-widgets/controls",
            "_model_module_version": "1.5.0",
            "_model_name": "DescriptionStyleModel",
            "_view_count": null,
            "_view_module": "@jupyter-widgets/base",
            "_view_module_version": "1.2.0",
            "_view_name": "StyleView",
            "description_width": ""
          }
        },
        "c3aa46ac4e684067853887e9911cfd76": {
          "model_module": "@jupyter-widgets/base",
          "model_name": "LayoutModel",
          "model_module_version": "1.2.0",
          "state": {
            "_model_module": "@jupyter-widgets/base",
            "_model_module_version": "1.2.0",
            "_model_name": "LayoutModel",
            "_view_count": null,
            "_view_module": "@jupyter-widgets/base",
            "_view_module_version": "1.2.0",
            "_view_name": "LayoutView",
            "align_content": null,
            "align_items": null,
            "align_self": null,
            "border": null,
            "bottom": null,
            "display": null,
            "flex": null,
            "flex_flow": null,
            "grid_area": null,
            "grid_auto_columns": null,
            "grid_auto_flow": null,
            "grid_auto_rows": null,
            "grid_column": null,
            "grid_gap": null,
            "grid_row": null,
            "grid_template_areas": null,
            "grid_template_columns": null,
            "grid_template_rows": null,
            "height": null,
            "justify_content": null,
            "justify_items": null,
            "left": null,
            "margin": null,
            "max_height": null,
            "max_width": null,
            "min_height": null,
            "min_width": null,
            "object_fit": null,
            "object_position": null,
            "order": null,
            "overflow": null,
            "overflow_x": null,
            "overflow_y": null,
            "padding": null,
            "right": null,
            "top": null,
            "visibility": null,
            "width": null
          }
        },
        "82344dff15a74bce886754bea53508a4": {
          "model_module": "@jupyter-widgets/controls",
          "model_name": "VBoxModel",
          "model_module_version": "1.5.0",
          "state": {
            "_dom_classes": [
              "widget-interact"
            ],
            "_model_module": "@jupyter-widgets/controls",
            "_model_module_version": "1.5.0",
            "_model_name": "VBoxModel",
            "_view_count": null,
            "_view_module": "@jupyter-widgets/controls",
            "_view_module_version": "1.5.0",
            "_view_name": "VBoxView",
            "box_style": "",
            "children": [
              "IPY_MODEL_e3191055a7c2477f958c979d7f0c2ac9",
              "IPY_MODEL_52072a651e95467db9d81bd44b60d0aa",
              "IPY_MODEL_ac9ad57338ea47baaf4b1b4e26832e3d"
            ],
            "layout": "IPY_MODEL_12b2c7c59ff5498b982f23ac70d0a05c"
          }
        },
        "e3191055a7c2477f958c979d7f0c2ac9": {
          "model_module": "@jupyter-widgets/controls",
          "model_name": "DropdownModel",
          "model_module_version": "1.5.0",
          "state": {
            "_dom_classes": [],
            "_model_module": "@jupyter-widgets/controls",
            "_model_module_version": "1.5.0",
            "_model_name": "DropdownModel",
            "_options_labels": [
              "no2",
              "so2",
              "pm2_5",
              "rspm",
              "spm"
            ],
            "_view_count": null,
            "_view_module": "@jupyter-widgets/controls",
            "_view_module_version": "1.5.0",
            "_view_name": "DropdownView",
            "description": "x_pollutant",
            "description_tooltip": null,
            "disabled": false,
            "index": 0,
            "layout": "IPY_MODEL_36b4c4b1ff3b4e799bd39d67b54568fc",
            "style": "IPY_MODEL_ba620267c57b4402bd99f48c89c7fbe3"
          }
        },
        "52072a651e95467db9d81bd44b60d0aa": {
          "model_module": "@jupyter-widgets/controls",
          "model_name": "DropdownModel",
          "model_module_version": "1.5.0",
          "state": {
            "_dom_classes": [],
            "_model_module": "@jupyter-widgets/controls",
            "_model_module_version": "1.5.0",
            "_model_name": "DropdownModel",
            "_options_labels": [
              "no2",
              "so2",
              "pm2_5",
              "rspm",
              "spm"
            ],
            "_view_count": null,
            "_view_module": "@jupyter-widgets/controls",
            "_view_module_version": "1.5.0",
            "_view_name": "DropdownView",
            "description": "y_pollutant",
            "description_tooltip": null,
            "disabled": false,
            "index": 2,
            "layout": "IPY_MODEL_e78dfdbf9b614290a2820527133f4a78",
            "style": "IPY_MODEL_7d03873ff7d8495984c9d762ca78fd40"
          }
        },
        "ac9ad57338ea47baaf4b1b4e26832e3d": {
          "model_module": "@jupyter-widgets/output",
          "model_name": "OutputModel",
          "model_module_version": "1.0.0",
          "state": {
            "_dom_classes": [],
            "_model_module": "@jupyter-widgets/output",
            "_model_module_version": "1.0.0",
            "_model_name": "OutputModel",
            "_view_count": null,
            "_view_module": "@jupyter-widgets/output",
            "_view_module_version": "1.0.0",
            "_view_name": "OutputView",
            "layout": "IPY_MODEL_4bc2b9b2cb6541448ff559d7cfb96f72",
            "msg_id": "",
            "outputs": [
              {
                "output_type": "display_data",
                "data": {
                  "text/plain": "<Figure size 1000x600 with 1 Axes>",
                  "image/png": "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\n"
                },
                "metadata": {}
              }
            ]
          }
        },
        "12b2c7c59ff5498b982f23ac70d0a05c": {
          "model_module": "@jupyter-widgets/base",
          "model_name": "LayoutModel",
          "model_module_version": "1.2.0",
          "state": {
            "_model_module": "@jupyter-widgets/base",
            "_model_module_version": "1.2.0",
            "_model_name": "LayoutModel",
            "_view_count": null,
            "_view_module": "@jupyter-widgets/base",
            "_view_module_version": "1.2.0",
            "_view_name": "LayoutView",
            "align_content": null,
            "align_items": null,
            "align_self": null,
            "border": null,
            "bottom": null,
            "display": null,
            "flex": null,
            "flex_flow": null,
            "grid_area": null,
            "grid_auto_columns": null,
            "grid_auto_flow": null,
            "grid_auto_rows": null,
            "grid_column": null,
            "grid_gap": null,
            "grid_row": null,
            "grid_template_areas": null,
            "grid_template_columns": null,
            "grid_template_rows": null,
            "height": null,
            "justify_content": null,
            "justify_items": null,
            "left": null,
            "margin": null,
            "max_height": null,
            "max_width": null,
            "min_height": null,
            "min_width": null,
            "object_fit": null,
            "object_position": null,
            "order": null,
            "overflow": null,
            "overflow_x": null,
            "overflow_y": null,
            "padding": null,
            "right": null,
            "top": null,
            "visibility": null,
            "width": null
          }
        },
        "36b4c4b1ff3b4e799bd39d67b54568fc": {
          "model_module": "@jupyter-widgets/base",
          "model_name": "LayoutModel",
          "model_module_version": "1.2.0",
          "state": {
            "_model_module": "@jupyter-widgets/base",
            "_model_module_version": "1.2.0",
            "_model_name": "LayoutModel",
            "_view_count": null,
            "_view_module": "@jupyter-widgets/base",
            "_view_module_version": "1.2.0",
            "_view_name": "LayoutView",
            "align_content": null,
            "align_items": null,
            "align_self": null,
            "border": null,
            "bottom": null,
            "display": null,
            "flex": null,
            "flex_flow": null,
            "grid_area": null,
            "grid_auto_columns": null,
            "grid_auto_flow": null,
            "grid_auto_rows": null,
            "grid_column": null,
            "grid_gap": null,
            "grid_row": null,
            "grid_template_areas": null,
            "grid_template_columns": null,
            "grid_template_rows": null,
            "height": null,
            "justify_content": null,
            "justify_items": null,
            "left": null,
            "margin": null,
            "max_height": null,
            "max_width": null,
            "min_height": null,
            "min_width": null,
            "object_fit": null,
            "object_position": null,
            "order": null,
            "overflow": null,
            "overflow_x": null,
            "overflow_y": null,
            "padding": null,
            "right": null,
            "top": null,
            "visibility": null,
            "width": null
          }
        },
        "ba620267c57b4402bd99f48c89c7fbe3": {
          "model_module": "@jupyter-widgets/controls",
          "model_name": "DescriptionStyleModel",
          "model_module_version": "1.5.0",
          "state": {
            "_model_module": "@jupyter-widgets/controls",
            "_model_module_version": "1.5.0",
            "_model_name": "DescriptionStyleModel",
            "_view_count": null,
            "_view_module": "@jupyter-widgets/base",
            "_view_module_version": "1.2.0",
            "_view_name": "StyleView",
            "description_width": ""
          }
        },
        "e78dfdbf9b614290a2820527133f4a78": {
          "model_module": "@jupyter-widgets/base",
          "model_name": "LayoutModel",
          "model_module_version": "1.2.0",
          "state": {
            "_model_module": "@jupyter-widgets/base",
            "_model_module_version": "1.2.0",
            "_model_name": "LayoutModel",
            "_view_count": null,
            "_view_module": "@jupyter-widgets/base",
            "_view_module_version": "1.2.0",
            "_view_name": "LayoutView",
            "align_content": null,
            "align_items": null,
            "align_self": null,
            "border": null,
            "bottom": null,
            "display": null,
            "flex": null,
            "flex_flow": null,
            "grid_area": null,
            "grid_auto_columns": null,
            "grid_auto_flow": null,
            "grid_auto_rows": null,
            "grid_column": null,
            "grid_gap": null,
            "grid_row": null,
            "grid_template_areas": null,
            "grid_template_columns": null,
            "grid_template_rows": null,
            "height": null,
            "justify_content": null,
            "justify_items": null,
            "left": null,
            "margin": null,
            "max_height": null,
            "max_width": null,
            "min_height": null,
            "min_width": null,
            "object_fit": null,
            "object_position": null,
            "order": null,
            "overflow": null,
            "overflow_x": null,
            "overflow_y": null,
            "padding": null,
            "right": null,
            "top": null,
            "visibility": null,
            "width": null
          }
        },
        "7d03873ff7d8495984c9d762ca78fd40": {
          "model_module": "@jupyter-widgets/controls",
          "model_name": "DescriptionStyleModel",
          "model_module_version": "1.5.0",
          "state": {
            "_model_module": "@jupyter-widgets/controls",
            "_model_module_version": "1.5.0",
            "_model_name": "DescriptionStyleModel",
            "_view_count": null,
            "_view_module": "@jupyter-widgets/base",
            "_view_module_version": "1.2.0",
            "_view_name": "StyleView",
            "description_width": ""
          }
        },
        "4bc2b9b2cb6541448ff559d7cfb96f72": {
          "model_module": "@jupyter-widgets/base",
          "model_name": "LayoutModel",
          "model_module_version": "1.2.0",
          "state": {
            "_model_module": "@jupyter-widgets/base",
            "_model_module_version": "1.2.0",
            "_model_name": "LayoutModel",
            "_view_count": null,
            "_view_module": "@jupyter-widgets/base",
            "_view_module_version": "1.2.0",
            "_view_name": "LayoutView",
            "align_content": null,
            "align_items": null,
            "align_self": null,
            "border": null,
            "bottom": null,
            "display": null,
            "flex": null,
            "flex_flow": null,
            "grid_area": null,
            "grid_auto_columns": null,
            "grid_auto_flow": null,
            "grid_auto_rows": null,
            "grid_column": null,
            "grid_gap": null,
            "grid_row": null,
            "grid_template_areas": null,
            "grid_template_columns": null,
            "grid_template_rows": null,
            "height": null,
            "justify_content": null,
            "justify_items": null,
            "left": null,
            "margin": null,
            "max_height": null,
            "max_width": null,
            "min_height": null,
            "min_width": null,
            "object_fit": null,
            "object_position": null,
            "order": null,
            "overflow": null,
            "overflow_x": null,
            "overflow_y": null,
            "padding": null,
            "right": null,
            "top": null,
            "visibility": null,
            "width": null
          }
        }
      }
    }
  },
  "cells": [
    {
      "cell_type": "markdown",
      "metadata": {
        "id": "view-in-github",
        "colab_type": "text"
      },
      "source": [
        "<a href=\"https://colab.research.google.com/github/Nishtha1994/AI4Good/blob/feature%2FCollect-AirPollution-Datasets/EDA.ipynb\" target=\"_parent\"><img src=\"https://colab.research.google.com/assets/colab-badge.svg\" alt=\"Open In Colab\"/></a>"
      ]
    },
    {
      "cell_type": "code",
      "execution_count": null,
      "metadata": {
        "id": "FzqINMkuGTN0"
      },
      "outputs": [],
      "source": [
        "# Air Quality"
      ]
    },
    {
      "cell_type": "code",
      "source": [
        "# Import packages\n",
        "import pandas as pd\n",
        "import numpy as np\n",
        "import matplotlib.pyplot as plt\n",
        "import seaborn as sns\n",
        "import ipywidgets as widgets\n",
        "import tensorflow as tf\n",
        "from tensorflow import keras\n",
        "from tensorflow.keras import layers\n",
        "from sklearn.model_selection import train_test_split\n",
        "from sklearn.metrics import mean_absolute_error\n",
        "from sklearn.preprocessing import StandardScaler\n",
        "\n",
        "print('All packages imported successfully!')"
      ],
      "metadata": {
        "colab": {
          "base_uri": "https://localhost:8080/"
        },
        "id": "tsGmmzX8GsJv",
        "outputId": "c4edba48-a66f-4d14-b81f-476f6e941377"
      },
      "execution_count": null,
      "outputs": [
        {
          "output_type": "stream",
          "name": "stdout",
          "text": [
            "All packages imported successfully!\n"
          ]
        }
      ]
    },
    {
      "cell_type": "code",
      "source": [
        "# Read in the data\n",
        "raw_data = pd.read_csv('/content/data.csv',encoding=\"ISO-8859-1\")\n",
        "raw_data = raw_data.rename(columns={'PM2_5': 'PM2.5'})\n",
        "print(f\"The dataset contains {len(raw_data)} entries\")\n",
        "raw_data.head(5)"
      ],
      "metadata": {
        "colab": {
          "base_uri": "https://localhost:8080/",
          "height": 299
        },
        "id": "IIt7o-d8Gzr-",
        "outputId": "9831d8c5-c61f-4811-99fe-4a83903798d5"
      },
      "execution_count": null,
      "outputs": [
        {
          "output_type": "stream",
          "name": "stdout",
          "text": [
            "The dataset contains 435742 entries\n"
          ]
        },
        {
          "output_type": "stream",
          "name": "stderr",
          "text": [
            "<ipython-input-155-75f4de68099e>:2: DtypeWarning: Columns (0) have mixed types. Specify dtype option on import or set low_memory=False.\n",
            "  raw_data = pd.read_csv('/content/data.csv',encoding=\"ISO-8859-1\")\n"
          ]
        },
        {
          "output_type": "execute_result",
          "data": {
            "text/plain": [
              "  stn_code       sampling_date           state   location agency  \\\n",
              "0    150.0  February - M021990  Andhra Pradesh  Hyderabad    NaN   \n",
              "1    151.0  February - M021990  Andhra Pradesh  Hyderabad    NaN   \n",
              "2    152.0  February - M021990  Andhra Pradesh  Hyderabad    NaN   \n",
              "3    150.0     March - M031990  Andhra Pradesh  Hyderabad    NaN   \n",
              "4    151.0     March - M031990  Andhra Pradesh  Hyderabad    NaN   \n",
              "\n",
              "                                 type  so2   no2  rspm  spm  \\\n",
              "0  Residential, Rural and other Areas  4.8  17.4   NaN  NaN   \n",
              "1                     Industrial Area  3.1   7.0   NaN  NaN   \n",
              "2  Residential, Rural and other Areas  6.2  28.5   NaN  NaN   \n",
              "3  Residential, Rural and other Areas  6.3  14.7   NaN  NaN   \n",
              "4                     Industrial Area  4.7   7.5   NaN  NaN   \n",
              "\n",
              "  location_monitoring_station  pm2_5        date  \n",
              "0                         NaN    NaN  1990-02-01  \n",
              "1                         NaN    NaN  1990-02-01  \n",
              "2                         NaN    NaN  1990-02-01  \n",
              "3                         NaN    NaN  1990-03-01  \n",
              "4                         NaN    NaN  1990-03-01  "
            ],
            "text/html": [
              "\n",
              "\n",
              "  <div id=\"df-f4607958-f16f-4612-ad59-66856daca5cb\">\n",
              "    <div class=\"colab-df-container\">\n",
              "      <div>\n",
              "<style scoped>\n",
              "    .dataframe tbody tr th:only-of-type {\n",
              "        vertical-align: middle;\n",
              "    }\n",
              "\n",
              "    .dataframe tbody tr th {\n",
              "        vertical-align: top;\n",
              "    }\n",
              "\n",
              "    .dataframe thead th {\n",
              "        text-align: right;\n",
              "    }\n",
              "</style>\n",
              "<table border=\"1\" class=\"dataframe\">\n",
              "  <thead>\n",
              "    <tr style=\"text-align: right;\">\n",
              "      <th></th>\n",
              "      <th>stn_code</th>\n",
              "      <th>sampling_date</th>\n",
              "      <th>state</th>\n",
              "      <th>location</th>\n",
              "      <th>agency</th>\n",
              "      <th>type</th>\n",
              "      <th>so2</th>\n",
              "      <th>no2</th>\n",
              "      <th>rspm</th>\n",
              "      <th>spm</th>\n",
              "      <th>location_monitoring_station</th>\n",
              "      <th>pm2_5</th>\n",
              "      <th>date</th>\n",
              "    </tr>\n",
              "  </thead>\n",
              "  <tbody>\n",
              "    <tr>\n",
              "      <th>0</th>\n",
              "      <td>150.0</td>\n",
              "      <td>February - M021990</td>\n",
              "      <td>Andhra Pradesh</td>\n",
              "      <td>Hyderabad</td>\n",
              "      <td>NaN</td>\n",
              "      <td>Residential, Rural and other Areas</td>\n",
              "      <td>4.8</td>\n",
              "      <td>17.4</td>\n",
              "      <td>NaN</td>\n",
              "      <td>NaN</td>\n",
              "      <td>NaN</td>\n",
              "      <td>NaN</td>\n",
              "      <td>1990-02-01</td>\n",
              "    </tr>\n",
              "    <tr>\n",
              "      <th>1</th>\n",
              "      <td>151.0</td>\n",
              "      <td>February - M021990</td>\n",
              "      <td>Andhra Pradesh</td>\n",
              "      <td>Hyderabad</td>\n",
              "      <td>NaN</td>\n",
              "      <td>Industrial Area</td>\n",
              "      <td>3.1</td>\n",
              "      <td>7.0</td>\n",
              "      <td>NaN</td>\n",
              "      <td>NaN</td>\n",
              "      <td>NaN</td>\n",
              "      <td>NaN</td>\n",
              "      <td>1990-02-01</td>\n",
              "    </tr>\n",
              "    <tr>\n",
              "      <th>2</th>\n",
              "      <td>152.0</td>\n",
              "      <td>February - M021990</td>\n",
              "      <td>Andhra Pradesh</td>\n",
              "      <td>Hyderabad</td>\n",
              "      <td>NaN</td>\n",
              "      <td>Residential, Rural and other Areas</td>\n",
              "      <td>6.2</td>\n",
              "      <td>28.5</td>\n",
              "      <td>NaN</td>\n",
              "      <td>NaN</td>\n",
              "      <td>NaN</td>\n",
              "      <td>NaN</td>\n",
              "      <td>1990-02-01</td>\n",
              "    </tr>\n",
              "    <tr>\n",
              "      <th>3</th>\n",
              "      <td>150.0</td>\n",
              "      <td>March - M031990</td>\n",
              "      <td>Andhra Pradesh</td>\n",
              "      <td>Hyderabad</td>\n",
              "      <td>NaN</td>\n",
              "      <td>Residential, Rural and other Areas</td>\n",
              "      <td>6.3</td>\n",
              "      <td>14.7</td>\n",
              "      <td>NaN</td>\n",
              "      <td>NaN</td>\n",
              "      <td>NaN</td>\n",
              "      <td>NaN</td>\n",
              "      <td>1990-03-01</td>\n",
              "    </tr>\n",
              "    <tr>\n",
              "      <th>4</th>\n",
              "      <td>151.0</td>\n",
              "      <td>March - M031990</td>\n",
              "      <td>Andhra Pradesh</td>\n",
              "      <td>Hyderabad</td>\n",
              "      <td>NaN</td>\n",
              "      <td>Industrial Area</td>\n",
              "      <td>4.7</td>\n",
              "      <td>7.5</td>\n",
              "      <td>NaN</td>\n",
              "      <td>NaN</td>\n",
              "      <td>NaN</td>\n",
              "      <td>NaN</td>\n",
              "      <td>1990-03-01</td>\n",
              "    </tr>\n",
              "  </tbody>\n",
              "</table>\n",
              "</div>\n",
              "      <button class=\"colab-df-convert\" onclick=\"convertToInteractive('df-f4607958-f16f-4612-ad59-66856daca5cb')\"\n",
              "              title=\"Convert this dataframe to an interactive table.\"\n",
              "              style=\"display:none;\">\n",
              "\n",
              "  <svg xmlns=\"http://www.w3.org/2000/svg\" height=\"24px\"viewBox=\"0 0 24 24\"\n",
              "       width=\"24px\">\n",
              "    <path d=\"M0 0h24v24H0V0z\" fill=\"none\"/>\n",
              "    <path d=\"M18.56 5.44l.94 2.06.94-2.06 2.06-.94-2.06-.94-.94-2.06-.94 2.06-2.06.94zm-11 1L8.5 8.5l.94-2.06 2.06-.94-2.06-.94L8.5 2.5l-.94 2.06-2.06.94zm10 10l.94 2.06.94-2.06 2.06-.94-2.06-.94-.94-2.06-.94 2.06-2.06.94z\"/><path d=\"M17.41 7.96l-1.37-1.37c-.4-.4-.92-.59-1.43-.59-.52 0-1.04.2-1.43.59L10.3 9.45l-7.72 7.72c-.78.78-.78 2.05 0 2.83L4 21.41c.39.39.9.59 1.41.59.51 0 1.02-.2 1.41-.59l7.78-7.78 2.81-2.81c.8-.78.8-2.07 0-2.86zM5.41 20L4 18.59l7.72-7.72 1.47 1.35L5.41 20z\"/>\n",
              "  </svg>\n",
              "      </button>\n",
              "\n",
              "\n",
              "\n",
              "    <div id=\"df-a355fb90-8c38-4bd0-aeb4-7def490de215\">\n",
              "      <button class=\"colab-df-quickchart\" onclick=\"quickchart('df-a355fb90-8c38-4bd0-aeb4-7def490de215')\"\n",
              "              title=\"Suggest charts.\"\n",
              "              style=\"display:none;\">\n",
              "\n",
              "<svg xmlns=\"http://www.w3.org/2000/svg\" height=\"24px\"viewBox=\"0 0 24 24\"\n",
              "     width=\"24px\">\n",
              "    <g>\n",
              "        <path d=\"M19 3H5c-1.1 0-2 .9-2 2v14c0 1.1.9 2 2 2h14c1.1 0 2-.9 2-2V5c0-1.1-.9-2-2-2zM9 17H7v-7h2v7zm4 0h-2V7h2v10zm4 0h-2v-4h2v4z\"/>\n",
              "    </g>\n",
              "</svg>\n",
              "      </button>\n",
              "    </div>\n",
              "\n",
              "<style>\n",
              "  .colab-df-quickchart {\n",
              "    background-color: #E8F0FE;\n",
              "    border: none;\n",
              "    border-radius: 50%;\n",
              "    cursor: pointer;\n",
              "    display: none;\n",
              "    fill: #1967D2;\n",
              "    height: 32px;\n",
              "    padding: 0 0 0 0;\n",
              "    width: 32px;\n",
              "  }\n",
              "\n",
              "  .colab-df-quickchart:hover {\n",
              "    background-color: #E2EBFA;\n",
              "    box-shadow: 0px 1px 2px rgba(60, 64, 67, 0.3), 0px 1px 3px 1px rgba(60, 64, 67, 0.15);\n",
              "    fill: #174EA6;\n",
              "  }\n",
              "\n",
              "  [theme=dark] .colab-df-quickchart {\n",
              "    background-color: #3B4455;\n",
              "    fill: #D2E3FC;\n",
              "  }\n",
              "\n",
              "  [theme=dark] .colab-df-quickchart:hover {\n",
              "    background-color: #434B5C;\n",
              "    box-shadow: 0px 1px 3px 1px rgba(0, 0, 0, 0.15);\n",
              "    filter: drop-shadow(0px 1px 2px rgba(0, 0, 0, 0.3));\n",
              "    fill: #FFFFFF;\n",
              "  }\n",
              "</style>\n",
              "\n",
              "    <script>\n",
              "      async function quickchart(key) {\n",
              "        const containerElement = document.querySelector('#' + key);\n",
              "        const charts = await google.colab.kernel.invokeFunction(\n",
              "            'suggestCharts', [key], {});\n",
              "      }\n",
              "    </script>\n",
              "\n",
              "      <script>\n",
              "\n",
              "function displayQuickchartButton(domScope) {\n",
              "  let quickchartButtonEl =\n",
              "    domScope.querySelector('#df-a355fb90-8c38-4bd0-aeb4-7def490de215 button.colab-df-quickchart');\n",
              "  quickchartButtonEl.style.display =\n",
              "    google.colab.kernel.accessAllowed ? 'block' : 'none';\n",
              "}\n",
              "\n",
              "        displayQuickchartButton(document);\n",
              "      </script>\n",
              "      <style>\n",
              "    .colab-df-container {\n",
              "      display:flex;\n",
              "      flex-wrap:wrap;\n",
              "      gap: 12px;\n",
              "    }\n",
              "\n",
              "    .colab-df-convert {\n",
              "      background-color: #E8F0FE;\n",
              "      border: none;\n",
              "      border-radius: 50%;\n",
              "      cursor: pointer;\n",
              "      display: none;\n",
              "      fill: #1967D2;\n",
              "      height: 32px;\n",
              "      padding: 0 0 0 0;\n",
              "      width: 32px;\n",
              "    }\n",
              "\n",
              "    .colab-df-convert:hover {\n",
              "      background-color: #E2EBFA;\n",
              "      box-shadow: 0px 1px 2px rgba(60, 64, 67, 0.3), 0px 1px 3px 1px rgba(60, 64, 67, 0.15);\n",
              "      fill: #174EA6;\n",
              "    }\n",
              "\n",
              "    [theme=dark] .colab-df-convert {\n",
              "      background-color: #3B4455;\n",
              "      fill: #D2E3FC;\n",
              "    }\n",
              "\n",
              "    [theme=dark] .colab-df-convert:hover {\n",
              "      background-color: #434B5C;\n",
              "      box-shadow: 0px 1px 3px 1px rgba(0, 0, 0, 0.15);\n",
              "      filter: drop-shadow(0px 1px 2px rgba(0, 0, 0, 0.3));\n",
              "      fill: #FFFFFF;\n",
              "    }\n",
              "  </style>\n",
              "\n",
              "      <script>\n",
              "        const buttonEl =\n",
              "          document.querySelector('#df-f4607958-f16f-4612-ad59-66856daca5cb button.colab-df-convert');\n",
              "        buttonEl.style.display =\n",
              "          google.colab.kernel.accessAllowed ? 'block' : 'none';\n",
              "\n",
              "        async function convertToInteractive(key) {\n",
              "          const element = document.querySelector('#df-f4607958-f16f-4612-ad59-66856daca5cb');\n",
              "          const dataTable =\n",
              "            await google.colab.kernel.invokeFunction('convertToInteractive',\n",
              "                                                     [key], {});\n",
              "          if (!dataTable) return;\n",
              "\n",
              "          const docLinkHtml = 'Like what you see? Visit the ' +\n",
              "            '<a target=\"_blank\" href=https://colab.research.google.com/notebooks/data_table.ipynb>data table notebook</a>'\n",
              "            + ' to learn more about interactive tables.';\n",
              "          element.innerHTML = '';\n",
              "          dataTable['output_type'] = 'display_data';\n",
              "          await google.colab.output.renderOutput(dataTable, element);\n",
              "          const docLink = document.createElement('div');\n",
              "          docLink.innerHTML = docLinkHtml;\n",
              "          element.appendChild(docLink);\n",
              "        }\n",
              "      </script>\n",
              "    </div>\n",
              "  </div>\n"
            ]
          },
          "metadata": {},
          "execution_count": 155
        }
      ]
    },
    {
      "cell_type": "code",
      "source": [
        "raw_data.isnull().sum()"
      ],
      "metadata": {
        "colab": {
          "base_uri": "https://localhost:8080/"
        },
        "id": "gB-K3vk-Ix41",
        "outputId": "3630e181-5c02-4837-9e1f-ac8adb30463c"
      },
      "execution_count": null,
      "outputs": [
        {
          "output_type": "execute_result",
          "data": {
            "text/plain": [
              "stn_code                       144077\n",
              "sampling_date                       3\n",
              "state                               0\n",
              "location                            3\n",
              "agency                         149481\n",
              "type                             5393\n",
              "so2                             34646\n",
              "no2                             16233\n",
              "rspm                            40222\n",
              "spm                            237387\n",
              "location_monitoring_station     27491\n",
              "pm2_5                          426428\n",
              "date                                7\n",
              "dtype: int64"
            ]
          },
          "metadata": {},
          "execution_count": 46
        }
      ]
    },
    {
      "cell_type": "code",
      "source": [
        "# Working with data on Delhi - select city/state as per your choice\n",
        "selected_columns = raw_data[[\"stn_code\",\"date\",\"sampling_date\",\"state\",\"location\", \"so2\", \"no2\",\"rspm\",\"spm\",\"pm2_5\"]]\n",
        "selected_columns = selected_columns[selected_columns[\"location\"]=='Delhi']"
      ],
      "metadata": {
        "id": "MMkM1yxRI4lI"
      },
      "execution_count": null,
      "outputs": []
    },
    {
      "cell_type": "code",
      "source": [
        "# Histogram\n",
        "number_of_bins = 64\n",
        "for col in selected_columns:\n",
        "    plt.figure(figsize=(10,6))\n",
        "    selected_columns[col].hist(bins=number_of_bins, edgecolor='black', alpha=0.7)\n",
        "    plt.title(f'Histogram of {col}')\n",
        "    plt.xlabel(col)\n",
        "    plt.xticks(rotation=45)\n",
        "    plt.ylabel('Frequency')\n",
        "    plt.grid(False)\n",
        "    plt.show()"
      ],
      "metadata": {
        "id": "258YuF72JajW"
      },
      "execution_count": null,
      "outputs": []
    },
    {
      "cell_type": "code",
      "source": [
        "df_melted = selected_columns.melt(id_vars=['location'], value_vars=['no2', 'so2', 'pm2_5','rspm','spm'],var_name='pollutant_type', value_name='level')"
      ],
      "metadata": {
        "id": "fL3Dc6_oK9Us"
      },
      "execution_count": null,
      "outputs": []
    },
    {
      "cell_type": "code",
      "source": [
        "# boxplot\n",
        "def plot_data(pollutant):\n",
        "    plt.figure(figsize=(10,6))\n",
        "    sns.boxplot(x='location', y=pollutant, data=selected_columns)\n",
        "    plt.title(f'Levels of {pollutant} by location')\n",
        "    plt.ylabel('Level')\n",
        "    plt.xlabel('location')\n",
        "    plt.xticks(rotation=45)\n",
        "    plt.tight_layout()\n",
        "    plt.show()\n",
        "\n",
        "pollutants = ['no2', 'so2', 'pm2_5','rspm','spm']\n",
        "widgets.interactive(plot_data, pollutant=pollutants)"
      ],
      "metadata": {
        "colab": {
          "base_uri": "https://localhost:8080/",
          "height": 639,
          "referenced_widgets": [
            "eae36d4c0a894075bc5ff7569403b916",
            "825821aa6d40430a87507d8f165eca5a",
            "b51675ce629b4e3da8557dbe8067e51c",
            "984604f589c248318e85ece57bf1c8b7",
            "9f01b5005b0843609a8dbd5116967537",
            "abd1c0c23fea40ad8ac3dba1f52bda49",
            "c3aa46ac4e684067853887e9911cfd76"
          ]
        },
        "id": "jhikGz7uLGc7",
        "outputId": "ef8bf1e0-7fd2-477a-a710-a052e7556cb4"
      },
      "execution_count": null,
      "outputs": [
        {
          "output_type": "display_data",
          "data": {
            "text/plain": [
              "interactive(children=(Dropdown(description='pollutant', options=('no2', 'so2', 'pm2_5', 'rspm', 'spm'), value=…"
            ],
            "application/vnd.jupyter.widget-view+json": {
              "version_major": 2,
              "version_minor": 0,
              "model_id": "eae36d4c0a894075bc5ff7569403b916"
            }
          },
          "metadata": {}
        }
      ]
    },
    {
      "cell_type": "code",
      "source": [
        "def plot_data(x_pollutant, y_pollutant):\n",
        "    plt.figure(figsize=(10,6))\n",
        "\n",
        "    # Using scatterplot\n",
        "    sns.scatterplot(x=selected_columns[x_pollutant], y=selected_columns[y_pollutant], s=100)\n",
        "\n",
        "    plt.title(f'Scatter plot of {x_pollutant} vs {y_pollutant}')\n",
        "    plt.ylabel(y_pollutant)\n",
        "    plt.xlabel(x_pollutant)\n",
        "    plt.xticks(rotation=45)\n",
        "    plt.tight_layout()\n",
        "    plt.show()\n",
        "\n",
        "# Create a dropdown with pollutants and display the interactive plot\n",
        "pollutants = ['no2', 'so2', 'pm2_5','rspm','spm']\n",
        "widgets.interactive(plot_data, x_pollutant=pollutants, y_pollutant=pollutants)"
      ],
      "metadata": {
        "colab": {
          "base_uri": "https://localhost:8080/",
          "height": 671,
          "referenced_widgets": [
            "82344dff15a74bce886754bea53508a4",
            "e3191055a7c2477f958c979d7f0c2ac9",
            "52072a651e95467db9d81bd44b60d0aa",
            "ac9ad57338ea47baaf4b1b4e26832e3d",
            "12b2c7c59ff5498b982f23ac70d0a05c",
            "36b4c4b1ff3b4e799bd39d67b54568fc",
            "ba620267c57b4402bd99f48c89c7fbe3",
            "e78dfdbf9b614290a2820527133f4a78",
            "7d03873ff7d8495984c9d762ca78fd40",
            "4bc2b9b2cb6541448ff559d7cfb96f72"
          ]
        },
        "id": "TathFxZNLJ-t",
        "outputId": "7a0cacf0-d465-4ecf-f7cd-919ac532243e"
      },
      "execution_count": null,
      "outputs": [
        {
          "output_type": "display_data",
          "data": {
            "text/plain": [
              "interactive(children=(Dropdown(description='x_pollutant', options=('no2', 'so2', 'pm2_5', 'rspm', 'spm'), valu…"
            ],
            "application/vnd.jupyter.widget-view+json": {
              "version_major": 2,
              "version_minor": 0,
              "model_id": "82344dff15a74bce886754bea53508a4"
            }
          },
          "metadata": {}
        }
      ]
    },
    {
      "cell_type": "code",
      "source": [
        "df = selected_columns.drop('location', axis=1)\n",
        "# Calculate the correlation matrix\n",
        "corr_matrix = df.corr()\n",
        "# Plotting the heatmap\n",
        "plt.figure(figsize=(10, 8))\n",
        "sns.heatmap(corr_matrix, annot=True, cmap='coolwarm', vmin=-1, vmax=1)\n",
        "plt.title(\"Correlation Matrix Heatmap\")\n",
        "plt.show()"
      ],
      "metadata": {
        "colab": {
          "base_uri": "https://localhost:8080/",
          "height": 753
        },
        "id": "J_ml8ahUPMU6",
        "outputId": "1a1a0e0e-b4e4-4b31-b25c-86d0afe1190d"
      },
      "execution_count": null,
      "outputs": [
        {
          "output_type": "stream",
          "name": "stderr",
          "text": [
            "<ipython-input-63-03ad519493ff>:4: FutureWarning: The default value of numeric_only in DataFrame.corr is deprecated. In a future version, it will default to False. Select only valid columns or specify the value of numeric_only to silence this warning.\n",
            "  corr_matrix = df.corr()\n"
          ]
        },
        {
          "output_type": "display_data",
          "data": {
            "text/plain": [
              "<Figure size 1000x800 with 2 Axes>"
            ],
            "image/png": "[encoded data removed]"
          },
          "metadata": {}
        }
      ]
    },
    {
      "cell_type": "code",
      "source": [
        "selected_columns_filtered = selected_columns.dropna(subset=['stn_code'])"
      ],
      "metadata": {
        "id": "34SqYP_xp_-c"
      },
      "execution_count": null,
      "outputs": []
    },
    {
      "cell_type": "code",
      "source": [
        "selected_columns_filtered.isnull().sum()"
      ],
      "metadata": {
        "colab": {
          "base_uri": "https://localhost:8080/"
        },
        "id": "RYH6ATLTiYy1",
        "outputId": "b49cda90-0ad5-45e0-e70d-91ee2e2c5b6c"
      },
      "execution_count": null,
      "outputs": [
        {
          "output_type": "execute_result",
          "data": {
            "text/plain": [
              "stn_code            0\n",
              "date                0\n",
              "sampling_date       0\n",
              "state               0\n",
              "location            0\n",
              "so2               518\n",
              "no2               515\n",
              "rspm             1670\n",
              "spm              2985\n",
              "pm2_5            4875\n",
              "dtype: int64"
            ]
          },
          "metadata": {},
          "execution_count": 179
        }
      ]
    },
    {
      "cell_type": "code",
      "source": [
        "selected_columns_filtered['pm25'] = selected_columns_filtered['pm2_5']\n",
        "grouped_mean = selected_columns_filtered.groupby('stn_code')['pm2_5'].transform('mean')\n",
        "selected_columns_filtered['pm25'].fillna(grouped_mean, inplace=True)\n"
      ],
      "metadata": {
        "colab": {
          "base_uri": "https://localhost:8080/"
        },
        "id": "feHoP0-EW7Pc",
        "outputId": "bd211068-d67f-4422-ac0b-8f4b71987081"
      },
      "execution_count": null,
      "outputs": [
        {
          "output_type": "stream",
          "name": "stderr",
          "text": [
            "<ipython-input-180-143666ec047f>:4: SettingWithCopyWarning: \n",
            "A value is trying to be set on a copy of a slice from a DataFrame.\n",
            "Try using .loc[row_indexer,col_indexer] = value instead\n",
            "\n",
            "See the caveats in the documentation: https://pandas.pydata.org/pandas-docs/stable/user_guide/indexing.html#returning-a-view-versus-a-copy\n",
            "  selected_columns_filtered['pm25'] = selected_columns_filtered['pm2_5']\n",
            "<ipython-input-180-143666ec047f>:13: SettingWithCopyWarning: \n",
            "A value is trying to be set on a copy of a slice from a DataFrame\n",
            "\n",
            "See the caveats in the documentation: https://pandas.pydata.org/pandas-docs/stable/user_guide/indexing.html#returning-a-view-versus-a-copy\n",
            "  selected_columns_filtered['pm25'].fillna(grouped_mean, inplace=True)\n"
          ]
        }
      ]
    },
    {
      "cell_type": "code",
      "source": [
        "# Print out a count of missing data for each column in the dataset\n",
        "selected_columns_filtered.isnull().sum()"
      ],
      "metadata": {
        "colab": {
          "base_uri": "https://localhost:8080/"
        },
        "id": "odyCiCObqSGS",
        "outputId": "a3ad543c-0368-4a95-93a4-af7549d02afa"
      },
      "execution_count": null,
      "outputs": [
        {
          "output_type": "execute_result",
          "data": {
            "text/plain": [
              "stn_code            0\n",
              "date                0\n",
              "sampling_date       0\n",
              "state               0\n",
              "location            0\n",
              "so2               518\n",
              "no2               515\n",
              "rspm             1670\n",
              "spm              2985\n",
              "pm2_5            4875\n",
              "pm25             2359\n",
              "dtype: int64"
            ]
          },
          "metadata": {},
          "execution_count": 183
        }
      ]
    },
    {
      "cell_type": "code",
      "source": [
        "actual_values = selected_columns_filtered['pm2_5']\n",
        "actual_values = actual_values.fillna(0)\n",
        "predicted_values = selected_columns_filtered['pm25']\n",
        "predicted_values = predicted_values.fillna(0)\n",
        "# Compute the Mean Absolute Error (MAE)\n",
        "mae = mean_absolute_error(actual_values, predicted_values)\n",
        "\n",
        "print(\"Mean Absolute Error (MAE):\", mae)"
      ],
      "metadata": {
        "colab": {
          "base_uri": "https://localhost:8080/"
        },
        "id": "fKfJHSMlsaPr",
        "outputId": "bbc47a8f-c1e2-4210-fb6f-8a2e33e29432"
      },
      "execution_count": null,
      "outputs": [
        {
          "output_type": "stream",
          "name": "stdout",
          "text": [
            "Mean Absolute Error (MAE): 45.102446193107866\n"
          ]
        }
      ]
    },
    {
      "cell_type": "code",
      "source": [
        "selected_columns['date'] = pd.to_datetime(selected_columns['date'])\n",
        "selected_columns['day_of_week_number'] = selected_columns['date'].dt.dayofweek\n",
        "selected_columns['day_of_week_name'] = selected_columns['date'].dt.day_name()"
      ],
      "metadata": {
        "id": "qLAKu0WvaOrA"
      },
      "execution_count": null,
      "outputs": []
    },
    {
      "cell_type": "code",
      "source": [
        "one_hot = pd.get_dummies(selected_columns.stn_code, prefix='Station')\n",
        "raw_data_for_imputing = selected_columns.join(one_hot)\n",
        "target ='pm2_5'\n",
        "\n",
        "data_no_missing = raw_data_for_imputing.copy()\n",
        "# Drop all rows containing missing values\n",
        "data_no_missing.dropna(subset=[target],inplace=True)\n",
        "# Print out the number of missing values in the PM2.5 column as a check (should print 0)\n",
        "null_remaining = data_no_missing[target].isnull().sum()\n",
        "if null_remaining == 0:\n",
        "    print('missing values removed and data prepared successfully!')\n",
        "\n",
        "\n",
        "from sklearn.model_selection import train_test_split\n",
        "train_data, test_data = train_test_split(data_no_missing, test_size=0.20, random_state=57)\n",
        "\n",
        "print(f'Train dataset size: {train_data.shape}')\n",
        "print(f'Test dataset size: {test_data.shape}')\n",
        "\n",
        "pollutants_list = ['so2','no2','rspm']\n",
        "pollutants_except_target = [i for i in pollutants_list if i != target]\n",
        "feature_names = ['day_of_week_number'] + list(one_hot.columns) + pollutants_except_target\n",
        "\n",
        "pollutants_list = ['so2','no2','rspm']\n",
        "pollutants_except_target = [i for i in pollutants_list if i != target]\n",
        "feature_names = ['day_of_week_number'] + list(one_hot.columns) + pollutants_except_target"
      ],
      "metadata": {
        "colab": {
          "base_uri": "https://localhost:8080/"
        },
        "id": "TYCEWCm-aihi",
        "outputId": "3fda0092-b93b-49a5-b13d-2d9b52b7f34c"
      },
      "execution_count": null,
      "outputs": [
        {
          "output_type": "stream",
          "name": "stdout",
          "text": [
            "missing values removed and data prepared successfully!\n",
            "Train dataset size: (296, 23)\n",
            "Test dataset size: (75, 23)\n"
          ]
        }
      ]
    },
    {
      "cell_type": "code",
      "source": [
        "def build_keras_model(input_size: int) -> tf.keras.Model:\n",
        "    '''Build a neural network with three fully connected layers (sizes: 64, 32, 1)\n",
        "\n",
        "    Args:\n",
        "        input_size (int): The size of the input\n",
        "\n",
        "    Returns:\n",
        "        model (tf.keras.Model): The neural network\n",
        "    '''\n",
        "    model = keras.Sequential([\n",
        "        layers.Dense(64, activation='relu', input_shape=[input_size]),\n",
        "        layers.Dense(32, activation='relu'),\n",
        "        layers.Dense(1)\n",
        "    ])\n",
        "\n",
        "    optimizer = tf.keras.optimizers.RMSprop(0.007)\n",
        "\n",
        "    model.compile(loss='mse',\n",
        "                optimizer=optimizer,\n",
        "                metrics=['mae'])\n",
        "\n",
        "    return model\n",
        "\n",
        "def train_and_test_model(\n",
        "    feature_names: List[str],\n",
        "    target: str,\n",
        "    train_df: pd.core.frame.DataFrame,\n",
        "    test_df: pd.core.frame.DataFrame,\n",
        "    model: tf.keras.Model,\n",
        "    number_epochs: int=100\n",
        ") -> Tuple[tf.keras.Model, StandardScaler, Dict[str, float]]:\n",
        "    '''\n",
        "    This function will take the features (x), the target (y) and the model and will fit\n",
        "    and Evaluate the model.\n",
        "\n",
        "    Args:\n",
        "        feature_names (List[str]): Names of feature columns\n",
        "        target (str): Name of the target column\n",
        "        train_df (pd.core.frame.DataFrame): Dataframe with training data\n",
        "        test_df (pd.core.frame.DataFrame): Dataframe with test data\n",
        "        model (tf.keras.Model): Model to be fit to the data\n",
        "        number_epochs (int): Number of epochs\n",
        "\n",
        "    Returns:\n",
        "        model (tf.keras.Model): Fitted model\n",
        "        scaler (StandardScaler): scaler\n",
        "        MAE (Dict[str, float]): Dictionary containing mean absolute error.\n",
        "    '''\n",
        "    scaler = StandardScaler()\n",
        "\n",
        "    X_train = train_df[feature_names]\n",
        "    y_train = train_df[target]\n",
        "    X_test = test_df[feature_names]\n",
        "    y_test = test_df[target]\n",
        "\n",
        "    # Handle missing values in the DataFrames (You can choose an appropriate method)\n",
        "    X_train = X_train.fillna(X_train.mean())  # Filling with the mean\n",
        "    X_test = X_test.fillna(X_test.mean())\n",
        "\n",
        "    # Fit the scaler to the training data\n",
        "    scaler.fit(X_train)\n",
        "    X_train = scaler.transform(X_train)\n",
        "    X_test = scaler.transform(X_test)\n",
        "\n",
        "    # Build and train the model\n",
        "    model.fit(X_train, y_train, batch_size=64, epochs=number_epochs)\n",
        "    y_pred = model.predict(X_test)\n",
        "    MAE = {\"MAE\": mean_absolute_error(y_pred, y_test)}\n",
        "    return model, scaler, MAE\n"
      ],
      "metadata": {
        "id": "Ga0wv9sDc2kg"
      },
      "execution_count": null,
      "outputs": []
    },
    {
      "cell_type": "code",
      "source": [
        "# Assuming you have defined feature_names and target appropriately\n",
        "\n",
        "# Define the neural network model architecture\n",
        "model = build_keras_model(input_size=len(feature_names))\n",
        "\n",
        "# Train and test the model\n",
        "model, scaler, mae = train_and_test_model(feature_names, target, train_data, test_data, model)\n",
        "regression_scores['neural_network_model'] = mae"
      ],
      "metadata": {
        "colab": {
          "base_uri": "https://localhost:8080/"
        },
        "id": "AgdtSxyKixsQ",
        "outputId": "e34d3e50-71eb-4c83-eb7c-4ef7f760949c"
      },
      "execution_count": null,
      "outputs": [
        {
          "output_type": "stream",
          "name": "stdout",
          "text": [
            "Epoch 1/100\n",
            "5/5 [==============================] - 1s 4ms/step - loss: 10756.5527 - mae: 92.7444\n",
            "Epoch 2/100\n",
            "5/5 [==============================] - 0s 3ms/step - loss: 9037.2969 - mae: 83.4340\n",
            "Epoch 3/100\n",
            "5/5 [==============================] - 0s 3ms/step - loss: 6643.3955 - mae: 68.4514\n",
            "Epoch 4/100\n",
            "5/5 [==============================] - 0s 3ms/step - loss: 4316.6079 - mae: 51.2518\n",
            "Epoch 5/100\n",
            "5/5 [==============================] - 0s 3ms/step - loss: 2693.7039 - mae: 38.1528\n",
            "Epoch 6/100\n",
            "5/5 [==============================] - 0s 3ms/step - loss: 1963.0287 - mae: 32.2505\n",
            "Epoch 7/100\n",
            "5/5 [==============================] - 0s 3ms/step - loss: 1722.3616 - mae: 30.6876\n",
            "Epoch 8/100\n",
            "5/5 [==============================] - 0s 4ms/step - loss: 1650.7439 - mae: 30.2846\n",
            "Epoch 9/100\n",
            "5/5 [==============================] - 0s 4ms/step - loss: 1632.0348 - mae: 30.1560\n",
            "Epoch 10/100\n",
            "5/5 [==============================] - 0s 3ms/step - loss: 1618.8208 - mae: 29.7753\n",
            "Epoch 11/100\n",
            "5/5 [==============================] - 0s 3ms/step - loss: 1590.3971 - mae: 29.6207\n",
            "Epoch 12/100\n",
            "5/5 [==============================] - 0s 4ms/step - loss: 1581.1550 - mae: 29.7482\n",
            "Epoch 13/100\n",
            "5/5 [==============================] - 0s 3ms/step - loss: 1581.7303 - mae: 29.5181\n",
            "Epoch 14/100\n",
            "5/5 [==============================] - 0s 3ms/step - loss: 1566.8716 - mae: 29.4931\n",
            "Epoch 15/100\n",
            "5/5 [==============================] - 0s 4ms/step - loss: 1574.0417 - mae: 29.5128\n",
            "Epoch 16/100\n",
            "5/5 [==============================] - 0s 3ms/step - loss: 1568.9261 - mae: 29.3683\n",
            "Epoch 17/100\n",
            "5/5 [==============================] - 0s 3ms/step - loss: 1597.9941 - mae: 29.9501\n",
            "Epoch 18/100\n",
            "5/5 [==============================] - 0s 4ms/step - loss: 1541.7317 - mae: 29.2464\n",
            "Epoch 19/100\n",
            "5/5 [==============================] - 0s 4ms/step - loss: 1562.2729 - mae: 29.5808\n",
            "Epoch 20/100\n",
            "5/5 [==============================] - 0s 3ms/step - loss: 1540.0709 - mae: 29.2985\n",
            "Epoch 21/100\n",
            "5/5 [==============================] - 0s 3ms/step - loss: 1555.4387 - mae: 29.4035\n",
            "Epoch 22/100\n",
            "5/5 [==============================] - 0s 4ms/step - loss: 1541.6155 - mae: 28.9239\n",
            "Epoch 23/100\n",
            "5/5 [==============================] - 0s 4ms/step - loss: 1521.1987 - mae: 29.2915\n",
            "Epoch 24/100\n",
            "5/5 [==============================] - 0s 4ms/step - loss: 1517.0538 - mae: 28.6504\n",
            "Epoch 25/100\n",
            "5/5 [==============================] - 0s 4ms/step - loss: 1511.3588 - mae: 28.8332\n",
            "Epoch 26/100\n",
            "5/5 [==============================] - 0s 4ms/step - loss: 1525.7650 - mae: 29.2684\n",
            "Epoch 27/100\n",
            "5/5 [==============================] - 0s 4ms/step - loss: 1519.2091 - mae: 28.6804\n",
            "Epoch 28/100\n",
            "5/5 [==============================] - 0s 3ms/step - loss: 1539.3547 - mae: 29.4486\n",
            "Epoch 29/100\n",
            "5/5 [==============================] - 0s 4ms/step - loss: 1511.7202 - mae: 28.8375\n",
            "Epoch 30/100\n",
            "5/5 [==============================] - 0s 4ms/step - loss: 1556.6727 - mae: 29.0814\n",
            "Epoch 31/100\n",
            "5/5 [==============================] - 0s 3ms/step - loss: 1509.9869 - mae: 28.8505\n",
            "Epoch 32/100\n",
            "5/5 [==============================] - 0s 3ms/step - loss: 1521.8087 - mae: 28.6840\n",
            "Epoch 33/100\n",
            "5/5 [==============================] - 0s 3ms/step - loss: 1519.5051 - mae: 28.6975\n",
            "Epoch 34/100\n",
            "5/5 [==============================] - 0s 4ms/step - loss: 1497.9246 - mae: 28.7474\n",
            "Epoch 35/100\n",
            "5/5 [==============================] - 0s 3ms/step - loss: 1497.2775 - mae: 28.6228\n",
            "Epoch 36/100\n",
            "5/5 [==============================] - 0s 4ms/step - loss: 1502.1544 - mae: 28.5714\n",
            "Epoch 37/100\n",
            "5/5 [==============================] - 0s 3ms/step - loss: 1530.8085 - mae: 29.0757\n",
            "Epoch 38/100\n",
            "5/5 [==============================] - 0s 4ms/step - loss: 1503.9446 - mae: 28.7560\n",
            "Epoch 39/100\n",
            "5/5 [==============================] - 0s 3ms/step - loss: 1503.5553 - mae: 28.5184\n",
            "Epoch 40/100\n",
            "5/5 [==============================] - 0s 3ms/step - loss: 1492.1953 - mae: 28.7138\n",
            "Epoch 41/100\n",
            "5/5 [==============================] - 0s 4ms/step - loss: 1496.5020 - mae: 28.6426\n",
            "Epoch 42/100\n",
            "5/5 [==============================] - 0s 3ms/step - loss: 1488.3176 - mae: 28.4152\n",
            "Epoch 43/100\n",
            "5/5 [==============================] - 0s 3ms/step - loss: 1500.8721 - mae: 29.1252\n",
            "Epoch 44/100\n",
            "5/5 [==============================] - 0s 4ms/step - loss: 1495.1589 - mae: 28.6926\n",
            "Epoch 45/100\n",
            "5/5 [==============================] - 0s 4ms/step - loss: 1529.3195 - mae: 28.7893\n",
            "Epoch 46/100\n",
            "5/5 [==============================] - 0s 4ms/step - loss: 1470.7500 - mae: 27.9071\n",
            "Epoch 47/100\n",
            "5/5 [==============================] - 0s 4ms/step - loss: 1487.5166 - mae: 28.5634\n",
            "Epoch 48/100\n",
            "5/5 [==============================] - 0s 3ms/step - loss: 1498.3466 - mae: 29.0519\n",
            "Epoch 49/100\n",
            "5/5 [==============================] - 0s 3ms/step - loss: 1485.9321 - mae: 28.8641\n",
            "Epoch 50/100\n",
            "5/5 [==============================] - 0s 4ms/step - loss: 1474.5707 - mae: 28.0846\n",
            "Epoch 51/100\n",
            "5/5 [==============================] - 0s 4ms/step - loss: 1471.6840 - mae: 28.1084\n",
            "Epoch 52/100\n",
            "5/5 [==============================] - 0s 4ms/step - loss: 1493.5234 - mae: 28.4255\n",
            "Epoch 53/100\n",
            "5/5 [==============================] - 0s 4ms/step - loss: 1484.2242 - mae: 28.1841\n",
            "Epoch 54/100\n",
            "5/5 [==============================] - 0s 3ms/step - loss: 1520.1661 - mae: 28.8162\n",
            "Epoch 55/100\n",
            "5/5 [==============================] - 0s 4ms/step - loss: 1475.7013 - mae: 28.2680\n",
            "Epoch 56/100\n",
            "5/5 [==============================] - 0s 4ms/step - loss: 1487.6979 - mae: 27.8828\n",
            "Epoch 57/100\n",
            "5/5 [==============================] - 0s 4ms/step - loss: 1477.2196 - mae: 28.4704\n",
            "Epoch 58/100\n",
            "5/5 [==============================] - 0s 4ms/step - loss: 1471.9457 - mae: 28.4013\n",
            "Epoch 59/100\n",
            "5/5 [==============================] - 0s 4ms/step - loss: 1463.5692 - mae: 27.6723\n",
            "Epoch 60/100\n",
            "5/5 [==============================] - 0s 4ms/step - loss: 1489.3861 - mae: 28.6205\n",
            "Epoch 61/100\n",
            "5/5 [==============================] - 0s 3ms/step - loss: 1467.4867 - mae: 28.2241\n",
            "Epoch 62/100\n",
            "5/5 [==============================] - 0s 4ms/step - loss: 1479.9432 - mae: 28.4503\n",
            "Epoch 63/100\n",
            "5/5 [==============================] - 0s 4ms/step - loss: 1462.4447 - mae: 28.0171\n",
            "Epoch 64/100\n",
            "5/5 [==============================] - 0s 3ms/step - loss: 1476.9470 - mae: 28.6549\n",
            "Epoch 65/100\n",
            "5/5 [==============================] - 0s 3ms/step - loss: 1473.4493 - mae: 28.1531\n",
            "Epoch 66/100\n",
            "5/5 [==============================] - 0s 6ms/step - loss: 1464.6497 - mae: 28.2501\n",
            "Epoch 67/100\n",
            "5/5 [==============================] - 0s 3ms/step - loss: 1469.9165 - mae: 27.8905\n",
            "Epoch 68/100\n",
            "5/5 [==============================] - 0s 3ms/step - loss: 1461.5729 - mae: 27.8905\n",
            "Epoch 69/100\n",
            "5/5 [==============================] - 0s 3ms/step - loss: 1479.2990 - mae: 28.1336\n",
            "Epoch 70/100\n",
            "5/5 [==============================] - 0s 3ms/step - loss: 1477.5177 - mae: 28.1910\n",
            "Epoch 71/100\n",
            "5/5 [==============================] - 0s 3ms/step - loss: 1457.2611 - mae: 27.9815\n",
            "Epoch 72/100\n",
            "5/5 [==============================] - 0s 3ms/step - loss: 1459.6121 - mae: 28.1589\n",
            "Epoch 73/100\n",
            "5/5 [==============================] - 0s 4ms/step - loss: 1463.6852 - mae: 28.1933\n",
            "Epoch 74/100\n",
            "5/5 [==============================] - 0s 3ms/step - loss: 1464.0798 - mae: 28.2090\n",
            "Epoch 75/100\n",
            "5/5 [==============================] - 0s 9ms/step - loss: 1473.7482 - mae: 28.1077\n",
            "Epoch 76/100\n",
            "5/5 [==============================] - 0s 5ms/step - loss: 1482.3892 - mae: 27.8095\n",
            "Epoch 77/100\n",
            "5/5 [==============================] - 0s 6ms/step - loss: 1462.2489 - mae: 28.1880\n",
            "Epoch 78/100\n",
            "5/5 [==============================] - 0s 8ms/step - loss: 1454.2234 - mae: 27.8826\n",
            "Epoch 79/100\n",
            "5/5 [==============================] - 0s 4ms/step - loss: 1462.0446 - mae: 28.2767\n",
            "Epoch 80/100\n",
            "5/5 [==============================] - 0s 4ms/step - loss: 1489.9653 - mae: 28.1302\n",
            "Epoch 81/100\n",
            "5/5 [==============================] - 0s 7ms/step - loss: 1444.4888 - mae: 27.8881\n",
            "Epoch 82/100\n",
            "5/5 [==============================] - 0s 6ms/step - loss: 1451.0616 - mae: 27.6186\n",
            "Epoch 83/100\n",
            "5/5 [==============================] - 0s 5ms/step - loss: 1448.2405 - mae: 28.2669\n",
            "Epoch 84/100\n",
            "5/5 [==============================] - 0s 5ms/step - loss: 1451.7432 - mae: 27.7904\n",
            "Epoch 85/100\n",
            "5/5 [==============================] - 0s 5ms/step - loss: 1489.8511 - mae: 28.5929\n",
            "Epoch 86/100\n",
            "5/5 [==============================] - 0s 5ms/step - loss: 1448.8010 - mae: 27.9870\n",
            "Epoch 87/100\n",
            "5/5 [==============================] - 0s 5ms/step - loss: 1464.2207 - mae: 27.8600\n",
            "Epoch 88/100\n",
            "5/5 [==============================] - 0s 6ms/step - loss: 1446.7083 - mae: 28.2671\n",
            "Epoch 89/100\n",
            "5/5 [==============================] - 0s 5ms/step - loss: 1467.3429 - mae: 28.2849\n",
            "Epoch 90/100\n",
            "5/5 [==============================] - 0s 10ms/step - loss: 1454.5619 - mae: 28.2007\n",
            "Epoch 91/100\n",
            "5/5 [==============================] - 0s 9ms/step - loss: 1454.8163 - mae: 27.7960\n",
            "Epoch 92/100\n",
            "5/5 [==============================] - 0s 12ms/step - loss: 1470.3386 - mae: 28.3760\n",
            "Epoch 93/100\n",
            "5/5 [==============================] - 0s 4ms/step - loss: 1437.4661 - mae: 27.8535\n",
            "Epoch 94/100\n",
            "5/5 [==============================] - 0s 5ms/step - loss: 1461.5114 - mae: 27.7941\n",
            "Epoch 95/100\n",
            "5/5 [==============================] - 0s 10ms/step - loss: 1461.3805 - mae: 28.0249\n",
            "Epoch 96/100\n",
            "5/5 [==============================] - 0s 8ms/step - loss: 1454.7297 - mae: 28.0289\n",
            "Epoch 97/100\n",
            "5/5 [==============================] - 0s 5ms/step - loss: 1447.9519 - mae: 28.0562\n",
            "Epoch 98/100\n",
            "5/5 [==============================] - 0s 5ms/step - loss: 1448.1726 - mae: 27.9144\n",
            "Epoch 99/100\n",
            "5/5 [==============================] - 0s 4ms/step - loss: 1430.3510 - mae: 27.9227\n",
            "Epoch 100/100\n",
            "5/5 [==============================] - 0s 6ms/step - loss: 1468.8224 - mae: 27.8903\n",
            "3/3 [==============================] - 0s 4ms/step\n"
          ]
        }
      ]
    },
    {
      "cell_type": "code",
      "source": [
        "for model_name, model_score in regression_scores.items():\n",
        "    print(model_name, ' : ', model_score)"
      ],
      "metadata": {
        "colab": {
          "base_uri": "https://localhost:8080/"
        },
        "id": "OX4XB__2eZkK",
        "outputId": "d44f5bdc-4ffd-4cf1-d6ee-322cf64339d2"
      },
      "execution_count": null,
      "outputs": [
        {
          "output_type": "stream",
          "name": "stdout",
          "text": [
            "neural_network_model  :  {'MAE': 31.30235555013021}\n"
          ]
        }
      ]
    },
    {
      "cell_type": "markdown",
      "source": [
        "To better understand whether the values are acceptable or not, you can consider the following:\n",
        "\n",
        "Baseline Models: Compare your model's performance with simple baseline models like predicting the mean, median, or a constant value. If your model performs significantly better than these baselines, it indicates that it's capturing some meaningful patterns.\n",
        "Domain Knowledge: Consider the context of your problem and whether the obtained MAE aligns with your expectations. For certain applications, an MAE of 28.1531 might be considered acceptable, while for others, it might be too high.\n",
        "Comparing with Literature or Benchmarks: Check whether there are any existing benchmarks or literature results for similar problems. Comparing your model's performance with these benchmarks can provide insights into its relative performance.\n",
        "Cross-Validation: Perform cross-validation to assess the model's generalization ability. If the MAE consistently stays high across different folds, it might indicate that the model is not capturing essential patterns in the data.\n",
        "In summary, whether the loss and MAE values are too high or acceptable depends on the specific problem, the scale of the target variable, and the context of the application. It's crucial to interpret the results in the context of the problem and make an informed judgment based on the above considerations."
      ],
      "metadata": {
        "id": "lu0Iniu7fr9I"
      }
    }
  ]
}